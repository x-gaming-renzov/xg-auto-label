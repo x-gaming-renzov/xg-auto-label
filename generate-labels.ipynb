{
 "cells": [
  {
   "cell_type": "code",
   "execution_count": 1,
   "metadata": {},
   "outputs": [
    {
     "data": {
      "text/plain": [
       "True"
      ]
     },
     "execution_count": 1,
     "metadata": {},
     "output_type": "execute_result"
    }
   ],
   "source": [
    "import os, json, pathlib, dotenv\n",
    "\n",
    "from Autolabel.templates.GenerateRedditData.GenerateRedditData import  RedditData\n",
    "\n",
    "dotenv.load_dotenv()"
   ]
  },
  {
   "cell_type": "code",
   "execution_count": 2,
   "metadata": {},
   "outputs": [],
   "source": [
    "client_id='PTqmYFAqvVuvJ3loIOns-Q'\n",
    "client_secret='ydeeY_-aFpvu20sRm5MXLfgkOguQzw' \n",
    "user_agent=os.getenv(\"REDDIT_USER_AGENT\")"
   ]
  },
  {
   "cell_type": "code",
   "execution_count": 3,
   "metadata": {},
   "outputs": [],
   "source": [
    "with open(\"kb_data.txt\", \"r\") as f:\n",
    "    kb_data = f.read()"
   ]
  },
  {
   "cell_type": "code",
   "execution_count": 4,
   "metadata": {},
   "outputs": [],
   "source": [
    "subreddits = [\"Minecraft\"]"
   ]
  },
  {
   "cell_type": "code",
   "execution_count": 5,
   "metadata": {},
   "outputs": [
    {
     "data": {
      "text/plain": [
       "'out = RedditData(\\n    subreddits=subreddits,\\n    reddit_client_id=client_id,\\n    reddit_client_secret=client_secret,\\n    reddit_user_agent=user_agent,\\n    kb_data=kb_data\\n)'"
      ]
     },
     "execution_count": 5,
     "metadata": {},
     "output_type": "execute_result"
    }
   ],
   "source": [
    "\"\"\"out = RedditData(\n",
    "    subreddits=subreddits,\n",
    "    reddit_client_id=client_id,\n",
    "    reddit_client_secret=client_secret,\n",
    "    reddit_user_agent=user_agent,\n",
    "    kb_data=kb_data\n",
    ")\"\"\""
   ]
  },
  {
   "cell_type": "code",
   "execution_count": 6,
   "metadata": {},
   "outputs": [],
   "source": [
    "out = RedditData.from_dict({\n",
    "\t\"subreddits\": [\"Minecraft\"],\n",
    "\t\"kb_data\": \"Xgaming Server Features\\n\\nXgaming is a unique Minecraft server that features AI plugins integrated directly into the multiplayer Minecraft experience. The AI features include:\\n\\nRaju the Trader\\nAn AI-powered trader who can barter trades with players. Players can come up to his shop and ask for items in English, Hindi, and even Punjabi. Raju considers their request, checks the player\\u2019s inventory, and gives the best possible items. For example, if a player needs arrows but Raju doesn\\u2019t have arrows in his inventory, he will offer flint and feathers and explain the arrow recipe. Raju generates trades based on the player\\u2019s gameplay style, their requests, and their inventory.\\n\\nOn-Demand Assets\\nPlayers on the Xgaming server don\\u2019t need to wait for anyone to add new items to the server\\u2014they can do it themselves, and that too with a single command! Players simply type in `/generate` followed by a description of their item, and it\\u2019s in their hands within seconds. The command also applies applicable enchantments, effects, and gives the item a cool name and lore.\\n\\nQuest Generation\\nPlayers on the Xgaming Minecraft server never run out of quests, thanks to AI-powered quest NPCs who keep giving rich, story-driven quests personalized to each player.\\n\\n\\nRanks\\nPlayers can purchase ranks by using the `/rank` command. This opens aGUI menu, where all the ranks are displayed along with theirbenefits, commands, and prices. It\\u2019s super simple to choose and buy a rank!\\n\\nBenefits of Ranks:\\nRanked players have access to some extra features compared to normal players, such as:\\n\\n-Set more than one home using `/sethome`.\\n- Use `/craft` to craft items directly without needing a crafting table.\\n- Use `/recipe` to see the crafting recipe of any item.\\n- Claim akit with `/kit`, which provides useful items\\u2014saving you the grind to craft them.\\n- Use `/feed` to fill your hunger bar, even if you don\\u2019t have any food items.\\n- Locate nearby players using `/near`.\\n- Clear all useless items from your inventory with `/disposal`.\\n- Set the time for yourself with `/ptime`, like making it daytime for you while it\\u2019s nighttime for others.\\n- Similarly, set your personal weather with `/pweather`, so you can make it sunny even if it\\u2019s raining on the server.\\n- Access yourEnder Chest anytime using `/enderchest` or `/echest`, even if you don\\u2019t have an Ender Chest nearby.\\n- Heal yourself with `/heal`, which is something normal players can never do.\\n\\nAdditionally, there are a few smaller but fun commands, like:\\n- `/hat` to wear any item on your head.\\n- `/sit` to sit anywhere you like.\\n\\nLifesteal Mechanics\\nThe server usesLifesteal mechanics, where players can increase their hearts by winning PvP battles:\\n-Winner: Gains an extra heart.\\n-Loser: Loses a heart.\\n\\nThis keeps PvP exciting, and players are always upgrading themselves to stay on top!\\n\\nPlayer Stats\\nPlayers can keep track of theirkill count anddeath count, making it easy to measure progress and bragging rights!\\n\\nGrinding and Earning Coins\\nThe server is a grind-heavy experience:\\n-Crafting, mining, and farming are always running in the background.\\n- Players can earncoins by selling the items they mine or farm.\\nUsing Coins:\\nCoins are super versatile and can be used to purchase:\\n-Crate keys\\n-Ranks\\n-Pets\\n-Cosmetics\\n\\n\\nWhat\\u2019s Happening on the Server?\\nThis month, the server has undergone some major changes, and a lot of exciting new features have been added.\\nPets:\\nPets have been introduced! They\\u2019re not just cute companions but come with a lot of useful features:\\n-Quests: Your pet can give you unique quests to complete.\\n-Defense: Pets help protect you during battles.\\n-Extra Benefits: For example, pets can increase your inventory space.\\n-Upgrades: You can upgrade your pet to unlock more features and make them stronger.\\n-Talking Pets: Oh, and yes, your pet can even talk to you!\\n\\nAnd the best part? Pets are completely free to earn.\\n\\nHalloween Update:\\n- A brand-newHalloween-themed texture pack was introduced.\\n-Nether Update with upgraded difficulty for an extra challenge.\\n- Anew Dungeon was added, filled with spawners for more exploration opportunities.\\n-Hearts reset: Player hearts were reset because some players were grinding hearts using alternate IDs.\\n\\nWeekly Events\\nThe server regularly hostsweekly events to keep things fun and engaging. Some popular events include:\\n-Build Battles where players compete to create the best designs.\\n-Wars for those who love PvP action.\\n-Redstone Events to show off creativity and technical skills.\\nEvent Scheduling:\\nWhen fresh event ideas start running low, theweekly events take a break. Sometimes there\\u2019s a gap of2 weeks, and occasionally3 weeks before the next event happens.\\nWhy the Gap?\\nHosting events too consistently can make players lose interest and get bored, so the team spaces them out to keep things fresh and exciting. On average, there\\u2019s a2-week gap between events, ensuring players stay excited for what\\u2019s coming next!\\n\\nAbout Events\\nThe last event took place the Sunday before last, whereHelix was the winner. As a reward, they received acustomized Xgaming t-shirt!\\n\\nAbout Task : \\nI want to know how to add other fun gameplay mechanics can be added to the server to keep players engaged and excited. \\nExplore different strategy to keep players engage.\",\n",
    "\t\"cache_path\": \"/Volumes/RenzovPersonal/packages/LiveOpsFrontDashboardMain/open-source/auto-label/cache/generate_reddit_data/0854eb15-5dcc-48e8-9d39-0ca2d22f1237\",\n",
    "\t\"reddit_client_id\": \"PTqmYFAqvVuvJ3loIOns-Q\",\n",
    "\t\"reddit_client_secret\": \"ydeeY_-aFpvu20sRm5MXLfgkOguQzw\",\n",
    "\t\"reddit_user_agent\": \"Vast-Debate-9319\",\n",
    "\t\"user_id\": \"0854eb15-5dcc-48e8-9d39-0ca2d22f1237\",\n",
    "\t\"status\": \"Completed\",\n",
    "\t\"reddit_posts_processed\": [\n",
    "\t\t[\"dqjiwa\", \"Minecraft\"],\n",
    "\t\t[\"jkdp8n\", \"Minecraft\"],\n",
    "\t\t[\"xvial7\", \"Minecraft\"]\n",
    "\t]\n",
    "}\n",
    ")"
   ]
  },
  {
   "cell_type": "code",
   "execution_count": 7,
   "metadata": {},
   "outputs": [],
   "source": [
    "#out.run()"
   ]
  },
  {
   "cell_type": "code",
   "execution_count": 8,
   "metadata": {},
   "outputs": [
    {
     "data": {
      "text/plain": [
       "[['dqjiwa', 'Minecraft'], ['jkdp8n', 'Minecraft'], ['xvial7', 'Minecraft']]"
      ]
     },
     "execution_count": 8,
     "metadata": {},
     "output_type": "execute_result"
    }
   ],
   "source": [
    "out.reddit_posts_processed\n"
   ]
  },
  {
   "cell_type": "code",
   "execution_count": 9,
   "metadata": {},
   "outputs": [
    {
     "data": {
      "text/plain": [
       "'reddit_data.zip'"
      ]
     },
     "execution_count": 9,
     "metadata": {},
     "output_type": "execute_result"
    }
   ],
   "source": [
    "out.get_reddit_posts_processed(zip_file_path=\"reddit_data.zip\")"
   ]
  },
  {
   "cell_type": "code",
   "execution_count": null,
   "metadata": {},
   "outputs": [],
   "source": []
  }
 ],
 "metadata": {
  "kernelspec": {
   "display_name": ".venv",
   "language": "python",
   "name": "python3"
  },
  "language_info": {
   "codemirror_mode": {
    "name": "ipython",
    "version": 3
   },
   "file_extension": ".py",
   "mimetype": "text/x-python",
   "name": "python",
   "nbconvert_exporter": "python",
   "pygments_lexer": "ipython3",
   "version": "3.12.3"
  }
 },
 "nbformat": 4,
 "nbformat_minor": 2
}
