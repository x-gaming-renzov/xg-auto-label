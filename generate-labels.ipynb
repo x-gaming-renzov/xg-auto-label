{
 "cells": [
  {
   "cell_type": "code",
   "execution_count": 1,
   "metadata": {},
   "outputs": [
    {
     "data": {
      "text/plain": [
       "True"
      ]
     },
     "execution_count": 1,
     "metadata": {},
     "output_type": "execute_result"
    }
   ],
   "source": [
    "import os, json, pathlib, dotenv\n",
    "\n",
    "from Autolabel.templates.GenerateRedditData import GenerateRedditData\n",
    "\n",
    "dotenv.load_dotenv()"
   ]
  },
  {
   "cell_type": "code",
   "execution_count": 2,
   "metadata": {},
   "outputs": [],
   "source": [
    "client_id='PTqmYFAqvVuvJ3loIOns-Q'\n",
    "client_secret='ydeeY_-aFpvu20sRm5MXLfgkOguQzw' \n",
    "user_agent=os.getenv(\"REDDIT_USER_AGENT\")"
   ]
  },
  {
   "cell_type": "code",
   "execution_count": 1,
   "metadata": {},
   "outputs": [],
   "source": [
    "with open(\"kb_data.txt\", \"r\") as f:\n",
    "    kb_data = f.read()"
   ]
  },
  {
   "cell_type": "code",
   "execution_count": 4,
   "metadata": {},
   "outputs": [],
   "source": [
    "subreddits = [\"Minecraft\"]\n",
    "user_id = \"xg\""
   ]
  },
  {
   "cell_type": "code",
   "execution_count": 5,
   "metadata": {},
   "outputs": [
    {
     "name": "stdout",
     "output_type": "stream",
     "text": [
      "\u001b[32mGenerating Reddit Data\u001b[0m\n",
      "\u001b[32mSearching for subreddits...\u001b[0m\n",
      "\u001b[33mSearching for subreddits related to 'Minecraft'...\u001b[0m\n",
      "Searching for communities related to 'Minecraft'...\n",
      "\n",
      "\u001b[32mFound 1 subreddits\u001b[0m\n",
      "\u001b[32mFetching posts...\u001b[0m\n",
      "\u001b[33mFetching top posts from r/Minecraft of all time\u001b[0m\n",
      "\u001b[33mFetching top posts from r/Minecraft of the week\u001b[0m\n",
      "\u001b[33mFetching top posts from r/Minecraft of the month\u001b[0m\n",
      "\u001b[32mSaved 60 posts to /Volumes/RenzovPersonal/packages/LiveOpsFrontDashboardMain/open-source/auto-label//cache/generate_reddit_data/Minecraft/posts.json\u001b[0m\n",
      "\u001b[32mReddit data generation complete\u001b[0m\n"
     ]
    }
   ],
   "source": [
    "out = GenerateRedditData.run(\n",
    "    user_id=user_id,\n",
    "    subreddits=subreddits,\n",
    "    reddit_client_id=client_id,\n",
    "    reddit_client_secret=client_secret,\n",
    "    reddit_user_agent=user_agent,\n",
    "    kb_data=kb_data\n",
    ")"
   ]
  },
  {
   "cell_type": "code",
   "execution_count": 6,
   "metadata": {},
   "outputs": [],
   "source": [
    "from Autolabel.loader.reddit.XGReddit import XGReddit"
   ]
  },
  {
   "cell_type": "code",
   "execution_count": 7,
   "metadata": {},
   "outputs": [],
   "source": [
    "reddit = XGReddit(client_id, client_secret, user_agent)"
   ]
  },
  {
   "cell_type": "code",
   "execution_count": 8,
   "metadata": {},
   "outputs": [
    {
     "name": "stdout",
     "output_type": "stream",
     "text": [
      "Fetching comments from post 'inpzob'...\n",
      "\n"
     ]
    }
   ],
   "source": [
    "comments = reddit.fetch_comments(\"inpzob\", 10, 2)"
   ]
  },
  {
   "cell_type": "code",
   "execution_count": 9,
   "metadata": {},
   "outputs": [],
   "source": [
    "comment_sample = []\n",
    "\n",
    "for comment in comments:\n",
    "    body = {\n",
    "        \"comment\" : comment[\"body\"],\n",
    "        \"replies\" : []\n",
    "    }\n",
    "    if \"replies\" in comment:\n",
    "        for reply in comment[\"replies\"]:\n",
    "            if len(reply[\"replies\"]) > 2:\n",
    "                break\n",
    "            body[\"replies\"].append(reply[\"body\"])\n",
    "    comment_sample.append(body)"
   ]
  },
  {
   "cell_type": "code",
   "execution_count": 10,
   "metadata": {},
   "outputs": [
    {
     "data": {
      "text/plain": [
       "[{'comment': \"This is really slick! I'd be curious to know how sprinting affects it though. Do you go faster, or slower even?\",\n",
       "  'replies': []},\n",
       " {'comment': '[deleted]',\n",
       "  'replies': ['IKR, I don’t even know how people think of this yet alone get them to work practically',\n",
       "   \"Stairs sure are, I can't take my eyes off them!\\n\\nIf only there was a word for that. . .\",\n",
       "   'Step by step.',\n",
       "   'It just keeps escalating.']},\n",
       " {'comment': 'You can make a 4 block/step staircase: [https://imgur.com/a/ncrxmdu](https://imgur.com/a/ncrxmdu)',\n",
       "  'replies': ['Woah, is there a demo anywhere?',\n",
       "   'Is this faster than a water elevator?']},\n",
       " {'comment': 'At first I was like “yeah ok that’s cool, but it’s so short it’s not practical” then he made the second one... wow, super cool and fast',\n",
       "  'replies': []},\n",
       " {'comment': '\"I\\'ve searched quite a while, & I think I\\'m the first to discover this. if nobody else has ever made this design, start calling it the qwublington staircase that\\'s q-w-u always wanted something to name after me\". just in case anyone trying to pause it',\n",
       "  'replies': ['*Qwuiblington', 'fuck u/spez, greedy pig']},\n",
       " {'comment': \"That's a pretty cool staircase design. We could call it the Qwuiblington staircase?\",\n",
       "  'replies': ['Wow. Unique. Interesting. Never seen that strange combination of letters in my life before. I like it.',\n",
       "   'It was their dying wish, after all.',\n",
       "   'Only at ikea',\n",
       "   'It’s spelled Quiblington according to the signs at the end of the video, but yes. I agree.\\n\\nEdit: never mind I read it wrong. It does have a “W”.',\n",
       "   \"That's what's on the signs at the end\"]},\n",
       " {'comment': 'That’s crazy cool', 'replies': []},\n",
       " {'comment': 'Imagine being able to just eat the left side of your stairs.',\n",
       "  'replies': ['Nah, imagine having to eat most of a cake to repair your staircase',\n",
       "   'Thats the Qwunlington staircase for you. Its nothing short of revolutionary.']},\n",
       " {'comment': 'Yeah, the stairs are cool, but is nobody gonna talk about that birch tree transition',\n",
       "  'replies': [\"The best edits are the ones you don't notice\",\n",
       "   \"Holy shit, didn't even notice that\",\n",
       "   'It took me a sec to even realize where the tower came from. It was very clean',\n",
       "   '[Smoother than silk.](https://youtu.be/b9sycdSkngA?t=551)',\n",
       "   'He can’t trick me, there wasn’t a birch tree to the left of the stair case when he started the transition! He had to plant it After the fact!',\n",
       "   'That transition was money.',\n",
       "   'How the crap? I missed that completely',\n",
       "   'Those transitions are real common these days']},\n",
       " {'comment': 'I’m going to use this in my survival base for no reason',\n",
       "  'replies': ['It will replace my actual stairs simply because it is cooler']}]"
      ]
     },
     "execution_count": 10,
     "metadata": {},
     "output_type": "execute_result"
    }
   ],
   "source": [
    "comment_sample"
   ]
  },
  {
   "cell_type": "code",
   "execution_count": 2,
   "metadata": {},
   "outputs": [],
   "source": [
    "from Autolabel.memory.XGMemoryClient import XGMemoryClient"
   ]
  },
  {
   "cell_type": "code",
   "execution_count": 3,
   "metadata": {},
   "outputs": [],
   "source": [
    "mem = XGMemoryClient(user_name=\"xg\")"
   ]
  },
  {
   "cell_type": "code",
   "execution_count": 4,
   "metadata": {},
   "outputs": [
    {
     "name": "stdout",
     "output_type": "stream",
     "text": [
      "[{'id': 'b521bf63-e40c-495a-afd0-fb710459fcf2', 'memory': 'User wants to explore different strategies to keep players engaged.', 'hash': '26aa36816d1d8e9abb6dcbd409350cb6', 'metadata': None, 'score': 0.3826695572762993, 'created_at': '2024-12-19T13:45:13.792097-08:00', 'updated_at': None, 'user_id': 'xg'}, {'id': 'dacd1b9b-51b1-494e-8f9a-0fec5b11b46a', 'memory': 'User is interested in adding fun gameplay mechanics to the Xgaming Minecraft server to keep players engaged and excited.', 'hash': 'fc7905531ceed511dced3d6bc9156746', 'metadata': None, 'score': 0.34028164548350165, 'created_at': '2024-12-19T13:45:13.788836-08:00', 'updated_at': None, 'user_id': 'xg'}]\n"
     ]
    },
    {
     "data": {
      "text/plain": [
       "'Memory added successfully'"
      ]
     },
     "execution_count": 4,
     "metadata": {},
     "output_type": "execute_result"
    }
   ],
   "source": [
    "mem.add_kb_memory(kb_memory=kb_data)"
   ]
  },
  {
   "cell_type": "code",
   "execution_count": 5,
   "metadata": {},
   "outputs": [],
   "source": [
    "res = mem.chat(\"what does user want to do?\")"
   ]
  },
  {
   "cell_type": "code",
   "execution_count": 6,
   "metadata": {},
   "outputs": [
    {
     "data": {
      "text/plain": [
       "[{'id': 'b521bf63-e40c-495a-afd0-fb710459fcf2',\n",
       "  'memory': 'User wants to explore different strategies to keep players engaged.',\n",
       "  'hash': '26aa36816d1d8e9abb6dcbd409350cb6',\n",
       "  'metadata': None,\n",
       "  'score': 0.4059413743971767,\n",
       "  'created_at': '2024-12-19T13:45:13.792097-08:00',\n",
       "  'updated_at': None,\n",
       "  'user_id': 'xg'},\n",
       " {'id': 'dacd1b9b-51b1-494e-8f9a-0fec5b11b46a',\n",
       "  'memory': 'User is interested in adding fun gameplay mechanics to the Xgaming Minecraft server to keep players engaged and excited.',\n",
       "  'hash': 'fc7905531ceed511dced3d6bc9156746',\n",
       "  'metadata': None,\n",
       "  'score': 0.3539568239663746,\n",
       "  'created_at': '2024-12-19T13:45:13.788836-08:00',\n",
       "  'updated_at': None,\n",
       "  'user_id': 'xg'}]"
      ]
     },
     "execution_count": 6,
     "metadata": {},
     "output_type": "execute_result"
    }
   ],
   "source": [
    "mem.get_memory(\"what does user want to do?\")"
   ]
  },
  {
   "cell_type": "code",
   "execution_count": 6,
   "metadata": {},
   "outputs": [
    {
     "data": {
      "text/plain": [
       "'User wants to explore different strategies and add fun gameplay mechanics to the Xgaming Minecraft server to keep players engaged and excited.'"
      ]
     },
     "execution_count": 6,
     "metadata": {},
     "output_type": "execute_result"
    }
   ],
   "source": [
    "res"
   ]
  },
  {
   "cell_type": "code",
   "execution_count": null,
   "metadata": {},
   "outputs": [],
   "source": []
  }
 ],
 "metadata": {
  "kernelspec": {
   "display_name": ".venv",
   "language": "python",
   "name": "python3"
  },
  "language_info": {
   "codemirror_mode": {
    "name": "ipython",
    "version": 3
   },
   "file_extension": ".py",
   "mimetype": "text/x-python",
   "name": "python",
   "nbconvert_exporter": "python",
   "pygments_lexer": "ipython3",
   "version": "3.12.3"
  }
 },
 "nbformat": 4,
 "nbformat_minor": 2
}
