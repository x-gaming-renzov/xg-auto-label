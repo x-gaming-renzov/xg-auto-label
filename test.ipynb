{
 "cells": [
  {
   "cell_type": "code",
   "execution_count": 1,
   "metadata": {},
   "outputs": [
    {
     "name": "stdout",
     "output_type": "stream",
     "text": [
      "\u001b[33mStatus: \u001b[0m \u001b[97mInitialising nodes\u001b[0m\n",
      "\u001b[33mStatus: \u001b[0m \u001b[97mInitialising ChatOpenAI\u001b[0m\n",
      "\u001b[32mStatus: \u001b[0m \u001b[97mChatOpenAI initialised\u001b[0m\n",
      "\u001b[33mStatus: \u001b[0m \u001b[97mInitialising XGMemoryClient\u001b[0m\n",
      "\u001b[32mStatus: \u001b[0m \u001b[97mXGMemoryClient initialised\u001b[0m\n"
     ]
    }
   ],
   "source": [
    "from Autolabel.templates.GenerateCleanMetadata.GenerateCleanMetadata import GenerateCleanMetadata"
   ]
  },
  {
   "cell_type": "code",
   "execution_count": 2,
   "metadata": {},
   "outputs": [],
   "source": [
    "gen = GenerateCleanMetadata(data_path=\"sample.json\", kb_path=\"sample_data/kb_data.txt\")"
   ]
  },
  {
   "cell_type": "code",
   "execution_count": 3,
   "metadata": {},
   "outputs": [
    {
     "name": "stdout",
     "output_type": "stream",
     "text": [
      "\u001b[36mRunning GenerateCleanMetadata\u001b[0m\n",
      "\u001b[32mGraph compiled\u001b[0m\n",
      "\u001b[36mRunning the graph\u001b[0m\n",
      "\u001b[33mStatus: \u001b[0m \u001b[97mPre-processing\u001b[0m\n",
      "\u001b[33mStatus: \u001b[0m \u001b[97mextracting keys and examples\u001b[0m\n",
      "{'evnt': ['block_break', 'mob_kill', 'player_death', 'chat_message', 'player_join'], 'pid': ['player_12345', 'player_67890'], 'time': ['2024-11-21T10:10:00Z', '2024-11-21T10:00:00Z', '2024-11-21T10:15:00Z', '2024-11-21T10:20:00Z', '2024-11-21T10:05:00Z'], 'loc.x': ['120', '150', '100'], 'loc.y': ['70', '64', '63'], 'loc.z': ['-200', '-320', '-300'], 'details.msg': ['Player joined the game', 'Anyone up for a raid?'], 'loc.item.x': ['105'], 'loc.item.y': ['65'], 'loc.item.z': ['-310'], 'loc.item.servers.item.server_id': ['server_1'], 'loc.item.servers.item.server_name': ['Survival'], 'loc.item.servers.item.server_type': ['PvE'], 'details.block': ['stone'], 'details.tool': ['diamond_pickaxe'], 'details.dropping.item': ['cobblestone'], 'details.chat_channel': ['global'], 'details.cause': ['fall_damage'], 'details.items_dropped.item': ['diamond_pickaxe', 'iron_helmet'], 'details.mob_type': ['zombie'], 'details.tool_used': ['iron_sword'], 'details.dropped_items.item': ['rotten_flesh', 'iron_ingot'], 'details.crafted_item': ['golden_apple'], 'details.ingredients_used.item': ['gold_ingot', 'apple']}\n",
      "\u001b[32mStatus: \u001b[0m \u001b[97mkeys and examples extracted\u001b[0m\n",
      "\u001b[33mStatus: \u001b[0m \u001b[97madding field info to GenerateCleanMetadataStates\u001b[0m\n",
      "\u001b[32mStatus: \u001b[0m \u001b[97mfield info added to GenerateCleanMetadataStates\u001b[0m\n",
      "\u001b[33mStatus: \u001b[0m \u001b[97mPopulating memory with kb\u001b[0m\n",
      "[{'id': '078d887f-97ec-448a-b8cc-ca7d8982d8d6', 'memory': 'User wants to explore different strategies to keep players engaged.', 'hash': '26aa36816d1d8e9abb6dcbd409350cb6', 'metadata': None, 'score': 0.38263236737821943, 'created_at': '2025-01-03T05:15:30.610297-08:00', 'updated_at': None, 'user_id': 'XG'}, {'id': 'e1b9f789-55f3-41bc-a394-1479661a18c6', 'memory': 'User is interested in adding fun gameplay mechanics to the Xgaming Minecraft server to keep players engaged and excited.', 'hash': 'fc7905531ceed511dced3d6bc9156746', 'metadata': None, 'score': 0.34029078355341136, 'created_at': '2025-01-03T05:15:30.607237-08:00', 'updated_at': None, 'user_id': 'XG'}]\n",
      "\u001b[33mStatus: \u001b[0m \u001b[97mGenerating description\u001b[0m\n",
      "\u001b[33mStatus: \u001b[0m \u001b[97mGenerating field name\u001b[0m\n",
      "\u001b[33mStatus: \u001b[0m \u001b[97mAccessing semantic clarity\u001b[0m\n",
      "\u001b[33mStatus: \u001b[0m \u001b[97mRegenerating low scoring fields\u001b[0m\n",
      "\u001b[33mStatus: \u001b[0m \u001b[97mLow scoring fields: ['Player Interaction and Activity Messages', 'Vertical Coordinate Position in 2D Space', 'Type of Tool Being Used (e.g., Diamond Pickaxe)', 'List of Items Dropped During Gameplay Events (e.g., diamond pickaxes, iron helmets)', 'Type of Gameplay Server (e.g., Survival, Creative, Adventure)', 'Game Event Types and Actions', 'Material Type of Block Used in Construction or Design', 'type_of_chat_channel_accessibility', 'game_entity_type', 'Vertical Position of Item in 3D Space (in meters)', 'List of Specific Ingredients Used in Recipes', 'Incident Reason or Cause of Incident', 'Horizontal Position on X-Axis', 'VerticalPositionOrElevationRelativeToZero', 'Item Vertical Position in Units (e.g., pixels or meters)', 'dropped_items_in_event_or_action', 'unique_server_identifier', 'crafted_game_items', 'Item Horizontal Position X-Coordinate', 'List of Dropped Items and Resources', 'specific_tools_or_weapons_used_in_activities', 'Type of Game Server (e.g., Player vs Environment, PvE)', 'Unique Player Identifier (UPI)', 'timestamp_in_ISO_8601_format_UTC']\u001b[0m\n",
      "\u001b[33mStatus: \u001b[0m \u001b[97mAccessing semantic clarity\u001b[0m\n",
      "\u001b[32mGraph run successfully\u001b[0m\n",
      "\u001b[36mGenerating metadata\u001b[0m\n",
      "\u001b[32mMetadata generated successfully\u001b[0m\n"
     ]
    }
   ],
   "source": [
    "out = gen.run()"
   ]
  },
  {
   "cell_type": "code",
   "execution_count": 4,
   "metadata": {},
   "outputs": [
    {
     "data": {
      "text/plain": [
       "'graph = gen.get_graph()\\nout = graph.invoke({\\n    \"data_path\" : \"sample.json\",\\n    \"kb_path\" : \"sample_data/kb_data.txt\",\\n    \"cache_path\" : \"./cache\"\\n})'"
      ]
     },
     "execution_count": 4,
     "metadata": {},
     "output_type": "execute_result"
    }
   ],
   "source": [
    "\"\"\"graph = gen.get_graph()\n",
    "out = graph.invoke({\n",
    "    \"data_path\" : \"sample.json\",\n",
    "    \"kb_path\" : \"sample_data/kb_data.txt\",\n",
    "    \"cache_path\" : \"./cache\"\n",
    "})\"\"\""
   ]
  },
  {
   "cell_type": "code",
   "execution_count": 7,
   "metadata": {},
   "outputs": [],
   "source": [
    "import json\n",
    "with open(\"output.json\", \"w\") as f:\n",
    "    json.dump(out, f, indent=4)"
   ]
  },
  {
   "cell_type": "code",
   "execution_count": null,
   "metadata": {},
   "outputs": [],
   "source": []
  }
 ],
 "metadata": {
  "kernelspec": {
   "display_name": ".venv",
   "language": "python",
   "name": "python3"
  },
  "language_info": {
   "codemirror_mode": {
    "name": "ipython",
    "version": 3
   },
   "file_extension": ".py",
   "mimetype": "text/x-python",
   "name": "python",
   "nbconvert_exporter": "python",
   "pygments_lexer": "ipython3",
   "version": "3.12.3"
  }
 },
 "nbformat": 4,
 "nbformat_minor": 2
}
